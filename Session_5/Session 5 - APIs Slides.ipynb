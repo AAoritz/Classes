{
 "cells": [
  {
   "cell_type": "markdown",
   "metadata": {
    "slideshow": {
     "slide_type": "slide"
    }
   },
   "source": [
    "# Python and APIs\n",
    "Angela, Moritz & Thomas"
   ]
  },
  {
   "cell_type": "markdown",
   "metadata": {
    "slideshow": {
     "slide_type": "slide"
    }
   },
   "source": [
    "### Outline of Session 5\n",
    "\n",
    "In these slides\n",
    "1. Introduction \n",
    "2. JSON\n",
    "3. Hardcoding access with `requests`\n",
    "4. Popular pre-written modules for geocoding and mapping\n",
    "\n",
    "External scripts\n",
    "1. Trade data with Comtrade API (kudos Federico)\n",
    "2. The Twitter API (kudos Charles)"
   ]
  },
  {
   "cell_type": "markdown",
   "metadata": {
    "slideshow": {
     "slide_type": "slide"
    }
   },
   "source": [
    "# What is an API?\n",
    "\n",
    "- API stands for Application programming interface\n",
    "- Pre-internet days: Extension of software beyond its usual capabilities\n",
    "- Nowadays: Interface by web service providers for you to connect/retrieve with your own application\n",
    "- You send data <-> You get data back\n",
    "- Most APIs hava a similar structure the REST architecture\n",
    "- Inititatives like the Linux Foundation's [OpenAPI](https://www.openapis.org/) develop these types of standards\n"
   ]
  },
  {
   "cell_type": "markdown",
   "metadata": {
    "slideshow": {
     "slide_type": "slide"
    }
   },
   "source": [
    "# What can I do with APIs? \n",
    "\n",
    "- Retrieve [World Bank Dev Indicators](https://datahelpdesk.worldbank.org/knowledgebase/articles/898581-api-basic-call-structures)\n",
    "- Track stock prices with [OpenFIGI](https://www.openfigi.com/api)\n",
    "- Geocode an address with [Here Maps](https://developer.here.com/)\n",
    "- Convert fiat currency with [opencurrency](https://openexchangerates.org/) or crypto with [alternative.me](https://alternative.me/crypto/api/)\n",
    "- Send tweets with [Twitter](https://developer.twitter.com/)\n",
    "- Download images from Mars or the Moon from [NASA](https://api.nasa.gov/)\n",
    "- ...\n",
    "\n",
    "\n"
   ]
  },
  {
   "cell_type": "markdown",
   "metadata": {
    "slideshow": {
     "slide_type": "slide"
    }
   },
   "source": [
    "\n",
    "<a href=\"https://imgflip.com/i/3rrkeh\"><img src=\"https://i.imgflip.com/3rrkeh.jpg\" title=\"madeatimgflip.com\"/></a>\n",
    "\n"
   ]
  },
  {
   "cell_type": "markdown",
   "metadata": {
    "slideshow": {
     "slide_type": "slide"
    }
   },
   "source": [
    "# The Starwars Character API\n",
    "\n",
    "- Let's get data on Starwars characters! \n",
    "- To call the API with Python we need the `requests` module \n",
    "- And the base URL of the API: `https://swapi.co/api/`\n",
    "- And most importantly [a documentation](https://swapi.co/documentation) \n",
    "\n"
   ]
  },
  {
   "cell_type": "code",
   "execution_count": 27,
   "metadata": {
    "slideshow": {
     "slide_type": "subslide"
    }
   },
   "outputs": [
    {
     "name": "stdout",
     "output_type": "stream",
     "text": [
      "<Response [200]>\n"
     ]
    }
   ],
   "source": [
    "import requests\n",
    "\n",
    "url = \"https://swapi.co/api/\"\n",
    "\n",
    "# Launch request\n",
    "base_req = requests.get(url)\n",
    "print(base_req)"
   ]
  },
  {
   "cell_type": "code",
   "execution_count": 2,
   "metadata": {
    "scrolled": true,
    "slideshow": {
     "slide_type": "subslide"
    }
   },
   "outputs": [
    {
     "name": "stdout",
     "output_type": "stream",
     "text": [
      "<Response [200]>\n",
      "{'people': 'https://swapi.co/api/people/', 'planets': 'https://swapi.co/api/planets/', 'films': 'https://swapi.co/api/films/', 'species': 'https://swapi.co/api/species/', 'vehicles': 'https://swapi.co/api/vehicles/', 'starships': 'https://swapi.co/api/starships/'}\n"
     ]
    }
   ],
   "source": [
    "# Explore json content of obeject\n",
    "print(base_req.json())\n"
   ]
  },
  {
   "cell_type": "markdown",
   "metadata": {
    "slideshow": {
     "slide_type": "slide"
    }
   },
   "source": [
    "# What is the returning object? \n",
    "\n",
    "- Most APIs return JSON files (JavaScript Object Notation) \n",
    "- They are a list of `{\"key\" : \"value\"}` pairs. For instance\n",
    "\n",
    "`\n",
    "{\n",
    "  \"firstName\": \"John\",\n",
    "  \"lastName\": \"Smith\",\n",
    "  \"isAlive\": true,\n",
    "  \"age\": 27,\n",
    "  \"address\": {\n",
    "    \"streetAddress\": \"21 2nd Street\",\n",
    "    \"city\": \"New York\",\n",
    "    \"state\": \"NY\",\n",
    "    \"postalCode\": \"10021-3100\"\n",
    "  }\n",
    "}  \n",
    "`\n",
    "\n"
   ]
  },
  {
   "cell_type": "markdown",
   "metadata": {
    "slideshow": {
     "slide_type": "slide"
    }
   },
   "source": [
    "# Making sense of the answer\n",
    "\n",
    "- The call to the basic URL returns various subfields\n",
    "`\n",
    "{\n",
    "    'people': 'https://swapi.co/api/people/', \n",
    "    'planets': 'https://swapi.co/api/planets/', \n",
    "    'films': 'https://swapi.co/api/films/', \n",
    "    'species': 'https://swapi.co/api/species/', \n",
    "    'vehicles': 'https://swapi.co/api/vehicles/', \n",
    "    'starships': 'https://swapi.co/api/starships/'\n",
    "    }\n",
    "`\n",
    "- The documentation adds: `/people/:id/ -- get a specific people resource`\n",
    "\n",
    "\n",
    "\n"
   ]
  },
  {
   "cell_type": "code",
   "execution_count": 27,
   "metadata": {
    "slideshow": {
     "slide_type": "subslide"
    }
   },
   "outputs": [
    {
     "name": "stdout",
     "output_type": "stream",
     "text": [
      "{'name': 'Luke Skywalker', 'height': '172', 'mass': '77', 'hair_color': 'blond', 'skin_color': 'fair', 'eye_color': 'blue', 'birth_year': '19BBY', 'gender': 'male', 'homeworld': 'https://swapi.co/api/planets/1/', 'films': ['https://swapi.co/api/films/2/', 'https://swapi.co/api/films/6/', 'https://swapi.co/api/films/3/', 'https://swapi.co/api/films/1/', 'https://swapi.co/api/films/7/'], 'species': ['https://swapi.co/api/species/1/'], 'vehicles': ['https://swapi.co/api/vehicles/14/', 'https://swapi.co/api/vehicles/30/'], 'starships': ['https://swapi.co/api/starships/12/', 'https://swapi.co/api/starships/22/'], 'created': '2014-12-09T13:50:51.644000Z', 'edited': '2014-12-20T21:17:56.891000Z', 'url': 'https://swapi.co/api/people/1/'}\n"
     ]
    }
   ],
   "source": [
    "# Let's try\n",
    "url = \"https://swapi.co/api/people/1\"\n",
    "\n",
    "# Launch request\n",
    "req_1 = requests.get(url)\n",
    "\n",
    "# Extract json\n",
    "req_1_js = req_1.json()\n",
    "print(req_1_js)"
   ]
  },
  {
   "cell_type": "code",
   "execution_count": 33,
   "metadata": {
    "slideshow": {
     "slide_type": "subslide"
    }
   },
   "outputs": [
    {
     "name": "stdout",
     "output_type": "stream",
     "text": [
      "['https://swapi.co/api/starships/12/', 'https://swapi.co/api/starships/22/']\n",
      "{'name': 'X-wing', 'model': 'T-65 X-wing', 'manufacturer': 'Incom Corporation', 'cost_in_credits': '149999', 'length': '12.5', 'max_atmosphering_speed': '1050', 'crew': '1', 'passengers': '0', 'cargo_capacity': '110', 'consumables': '1 week', 'hyperdrive_rating': '1.0', 'MGLT': '100', 'starship_class': 'Starfighter', 'pilots': ['https://swapi.co/api/people/1/', 'https://swapi.co/api/people/9/', 'https://swapi.co/api/people/18/', 'https://swapi.co/api/people/19/'], 'films': ['https://swapi.co/api/films/2/', 'https://swapi.co/api/films/3/', 'https://swapi.co/api/films/1/'], 'created': '2014-12-12T11:19:05.340000Z', 'edited': '2014-12-22T17:35:44.491233Z', 'url': 'https://swapi.co/api/starships/12/'}\n"
     ]
    }
   ],
   "source": [
    "# Let's extract Luke's starships\n",
    "ships = req_1_js.get(\"starships\")\n",
    "print(ships)\n",
    "\n",
    "# And get entry of first starship\n",
    "ship = requests.get(ships[0]).json()\n",
    "print(ship)\n"
   ]
  },
  {
   "cell_type": "markdown",
   "metadata": {
    "slideshow": {
     "slide_type": "slide"
    }
   },
   "source": [
    "# Geocoding\n",
    "\n",
    "- Most map services like Google Maps, Open Street Maps, Bing, etc. have APIs\n",
    "- Let's check out Open Street Maps' (OSM) API called [Nominatim](https://developer.mapquest.com/)\n",
    "- We will use the API through the Python module `geopy`\n",
    "- To install new modules check out this [tutorial](https://jakevdp.github.io/blog/2017/12/05/installing-python-packages-from-jupyter/)\n",
    "- But we still neeed to sign up with our email to obtaine a key for Nominatim\n",
    "\n",
    "\n",
    "\n",
    "\n",
    "\n",
    "\n"
   ]
  },
  {
   "cell_type": "code",
   "execution_count": 22,
   "metadata": {
    "slideshow": {
     "slide_type": "subslide"
    }
   },
   "outputs": [
    {
     "name": "stdout",
     "output_type": "stream",
     "text": [
      "Université Libre de Bruxelles (Campus du Solbosch), Square Albert Devèze - Albert Devèzesquare, Ixelles - Elsene, Région de Bruxelles-Capitale - Brussels Hoofdstedelijk Gewest, 1050, België - Belgique - Belgien\n",
      "[50.8134537, 4.381308819663028]\n"
     ]
    }
   ],
   "source": [
    "#import sys \n",
    "#!{sys.executable} -m pip install geopy\n",
    "\n",
    "from geopy.geocoders import Nominatim\n",
    "\n",
    "# Replace the user agent key with your own key\n",
    "geolocator = Nominatim(user_agent=\"jjG4qnPniTAGpG7O0q8XcMhARm0Pxcln\")\n",
    "location = geolocator.geocode(\"Universite libre de Bruxelles\")\n",
    "\n",
    "# Did it work?\n",
    "print(location)\n",
    "# Like a charm...\n",
    "\n",
    "# Store coordinates in tuple\n",
    "ulb_coords = [location.latitude, location.longitude]\n",
    "print(ulb_coords)\n",
    "\n",
    "\n",
    "\n",
    "\n"
   ]
  },
  {
   "cell_type": "markdown",
   "metadata": {
    "slideshow": {
     "slide_type": "slide"
    }
   },
   "source": [
    "# Mapping\n",
    "\n",
    "- With the free [Leaflet API](https://leafletjs.com/reference-1.6.0.html)\n",
    "- Unfortunately written in Java Script\n",
    "- But no need to learn, use \"wrapper\" Python Module `Folium`\n",
    "- Example: Map of environmental violations of shale gas drilling in Pennsyilvania ([website](http://stateimpact.npr.org/pennsylvania/drilling/violations/))\n",
    "\n",
    " <img src=\"map.png\" alt=\"Map\" width=\"250\" height=\"250\">\n",
    "\n",
    "\n",
    "\n",
    "\n",
    "\n",
    "\n",
    "\n"
   ]
  },
  {
   "cell_type": "code",
   "execution_count": 23,
   "metadata": {
    "scrolled": true,
    "slideshow": {
     "slide_type": "subslide"
    }
   },
   "outputs": [],
   "source": [
    "# Install Python module Folium, a wrapper of the Leaflet API\n",
    "#import sys\n",
    "#!{sys.executable} -m pip install folium\n",
    "\n",
    "import folium\n",
    "from folium.plugins import MarkerCluster\n",
    "import pandas as pd\n",
    "\n",
    "#Create the map\n",
    "my_map = folium.Map(location = ulb_coords, zoom_start = 14)\n",
    "\n",
    "\n"
   ]
  },
  {
   "cell_type": "code",
   "execution_count": 24,
   "metadata": {
    "scrolled": true,
    "slideshow": {
     "slide_type": "subslide"
    }
   },
   "outputs": [
    {
     "data": {
      "text/html": [
       "<div style=\"width:100%;\"><div style=\"position:relative;width:100%;height:0;padding-bottom:60%;\"><iframe src=\"about:blank\" style=\"position:absolute;width:100%;height:100%;left:0;top:0;border:none !important;\" data-html=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 onload=\"this.contentDocument.open();this.contentDocument.write(atob(this.getAttribute('data-html')));this.contentDocument.close();\" allowfullscreen webkitallowfullscreen mozallowfullscreen></iframe></div></div>"
      ],
      "text/plain": [
       "<folium.folium.Map at 0x7f323c3a0a50>"
      ]
     },
     "execution_count": 24,
     "metadata": {},
     "output_type": "execute_result"
    }
   ],
   "source": [
    "# Display map\n",
    "my_map\n"
   ]
  },
  {
   "cell_type": "code",
   "execution_count": 26,
   "metadata": {
    "scrolled": true,
    "slideshow": {
     "slide_type": "subslide"
    }
   },
   "outputs": [
    {
     "name": "stdout",
     "output_type": "stream",
     "text": [
      "Tavernier, 445, Chaussée de Boondael - Boondaalse Steenweg, Ixelles - Elsene, Région de Bruxelles-Capitale - Brussels Hoofdstedelijk Gewest, 1050, België - Belgique - Belgien\n"
     ]
    },
    {
     "data": {
      "text/html": [
       "<div style=\"width:100%;\"><div style=\"position:relative;width:100%;height:0;padding-bottom:60%;\"><iframe src=\"about:blank\" style=\"position:absolute;width:100%;height:100%;left:0;top:0;border:none !important;\" data-html=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 onload=\"this.contentDocument.open();this.contentDocument.write(atob(this.getAttribute('data-html')));this.contentDocument.close();\" allowfullscreen webkitallowfullscreen mozallowfullscreen></iframe></div></div>"
      ],
      "text/plain": [
       "<folium.folium.Map at 0x7f323c3a0a50>"
      ]
     },
     "execution_count": 26,
     "metadata": {},
     "output_type": "execute_result"
    }
   ],
   "source": [
    "# Let's add markers\n",
    "location = geolocator.geocode(\"Bar Tavernier Ixelles\")\n",
    "tav_coords = [location.latitude, location.longitude]\n",
    "print(location)\n",
    "\n",
    "folium.Marker(ulb_coords, popup = 'ULB').add_to(my_map)\n",
    "folium.Marker(tav_coords, popup = 'STATA User Meeting').add_to(my_map)\n",
    "\n",
    "my_map\n"
   ]
  }
 ],
 "metadata": {
  "celltoolbar": "Slideshow",
  "kernelspec": {
   "display_name": "Python 3",
   "language": "python",
   "name": "python3"
  },
  "language_info": {
   "codemirror_mode": {
    "name": "ipython",
    "version": 3
   },
   "file_extension": ".py",
   "mimetype": "text/x-python",
   "name": "python",
   "nbconvert_exporter": "python",
   "pygments_lexer": "ipython3",
   "version": "3.7.4"
  }
 },
 "nbformat": 4,
 "nbformat_minor": 2
}
