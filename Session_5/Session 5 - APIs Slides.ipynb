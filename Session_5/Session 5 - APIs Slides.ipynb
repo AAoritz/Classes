{
 "cells": [
  {
   "cell_type": "markdown",
   "metadata": {
    "slideshow": {
     "slide_type": "slide"
    }
   },
   "source": [
    "# Python and APIs\n",
    "Angela, Moritz & Thomas"
   ]
  },
  {
   "cell_type": "markdown",
   "metadata": {
    "slideshow": {
     "slide_type": "slide"
    }
   },
   "source": [
    "### Outline of Session 5\n",
    "\n",
    "1. Introduction \n",
    "2. \n",
    "3. \n",
    "2. Trade data throught the Comtrade API (kudos Federico)\n",
    "3. The Twitter API (kudos Charles)"
   ]
  },
  {
   "cell_type": "markdown",
   "metadata": {
    "slideshow": {
     "slide_type": "slide"
    }
   },
   "source": [
    "# What is an API?\n",
    "\n",
    "- API stands for Application programming interface\n",
    "- Pre-internet days: Extension of software beyond its usual capabilities\n",
    "- Nowadays: Interface by web service providers for you to connect/retrieve with your own application\n",
    "- You send data <-> You get data back\n",
    "- Most APIs hava a similar structure the REST architecture\n",
    "- Inititatives like the Linux Foundation's [OpenAPI](https://www.openapis.org/) develop these types of standards\n"
   ]
  },
  {
   "cell_type": "markdown",
   "metadata": {
    "slideshow": {
     "slide_type": "slide"
    }
   },
   "source": [
    "# What can I do with APIs? \n",
    "\n",
    "- Retrieve [World Bank Dev Indicators](https://datahelpdesk.worldbank.org/knowledgebase/articles/898581-api-basic-call-structures)\n",
    "- Track stock prices with [OpenFIGI](https://www.openfigi.com/api)\n",
    "- Geocode an address with [Here Maps](https://developer.here.com/)\n",
    "- Convert fiat currency with [opencurrency](https://openexchangerates.org/) or crypto with [alternative.me](https://alternative.me/crypto/api/)\n",
    "- Send tweets with [Twitter](https://developer.twitter.com/)\n",
    "- Download images from Mars or the Moon from [NASA](https://api.nasa.gov/)\n",
    "- ...\n",
    "\n",
    "\n"
   ]
  },
  {
   "cell_type": "markdown",
   "metadata": {
    "slideshow": {
     "slide_type": "slide"
    }
   },
   "source": [
    "\n",
    "<a href=\"https://imgflip.com/i/3rrkeh\"><img src=\"https://i.imgflip.com/3rrkeh.jpg\" title=\"madeatimgflip.com\"/></a>\n",
    "\n"
   ]
  },
  {
   "cell_type": "markdown",
   "metadata": {
    "slideshow": {
     "slide_type": "slide"
    }
   },
   "source": [
    "# The Starwars Character API\n",
    "\n",
    "- Let's get data on Starwars characters! \n",
    "- To get it started in Python we need the `requests` module \n",
    "- A base URL `https://swapi.co/api/`\n",
    "- And most importantly [a documentation](https://swapi.co/documentation) \n",
    "\n"
   ]
  },
  {
   "cell_type": "code",
   "execution_count": 14,
   "metadata": {
    "slideshow": {
     "slide_type": "subslide"
    }
   },
   "outputs": [],
   "source": [
    "import requests\n",
    "\n",
    "url = \"https://swapi.co/api/\"\n",
    "\n",
    "# Launch request\n",
    "base_req = requests.get(url)"
   ]
  },
  {
   "cell_type": "code",
   "execution_count": 18,
   "metadata": {
    "scrolled": true,
    "slideshow": {
     "slide_type": "subslide"
    }
   },
   "outputs": [
    {
     "name": "stdout",
     "output_type": "stream",
     "text": [
      "<Response [200]>\n",
      "{'people': 'https://swapi.co/api/people/', 'planets': 'https://swapi.co/api/planets/', 'films': 'https://swapi.co/api/films/', 'species': 'https://swapi.co/api/species/', 'vehicles': 'https://swapi.co/api/vehicles/', 'starships': 'https://swapi.co/api/starships/'}\n"
     ]
    }
   ],
   "source": [
    "# Explore request\n",
    "print(base_req)\n",
    "\n",
    "print(base_req.json())\n"
   ]
  },
  {
   "cell_type": "markdown",
   "metadata": {
    "slideshow": {
     "slide_type": "slide"
    }
   },
   "source": [
    "# What is the returning object? \n",
    "\n",
    "- Most APIs return JSON files (JavaScript Object Notation) \n",
    "- They are a list of key - value pairs. For instance\n",
    "\n",
    "`\n",
    "{\n",
    "  \"firstName\": \"John\",\n",
    "  \"lastName\": \"Smith\",\n",
    "  \"isAlive\": true,\n",
    "  \"age\": 27,\n",
    "  \"address\": {\n",
    "    \"streetAddress\": \"21 2nd Street\",\n",
    "    \"city\": \"New York\",\n",
    "    \"state\": \"NY\",\n",
    "    \"postalCode\": \"10021-3100\"\n",
    "  }\n",
    "}  \n",
    "`\n",
    "\n"
   ]
  },
  {
   "cell_type": "markdown",
   "metadata": {
    "slideshow": {
     "slide_type": "slide"
    }
   },
   "source": [
    "# Making sense of the answer\n",
    "\n",
    "- The call to the basic URL returns various subfields\n",
    "`\n",
    "{\n",
    "    'people': 'https://swapi.co/api/people/', \n",
    "    'planets': 'https://swapi.co/api/planets/', \n",
    "    'films': 'https://swapi.co/api/films/', \n",
    "    'species': 'https://swapi.co/api/species/', \n",
    "    'vehicles': 'https://swapi.co/api/vehicles/', \n",
    "    'starships': 'https://swapi.co/api/starships/'\n",
    "    }\n",
    "`\n",
    "- The documentation adds: `/people/:id/ -- get a specific people resource`\n",
    "\n",
    "\n",
    "\n"
   ]
  },
  {
   "cell_type": "code",
   "execution_count": 27,
   "metadata": {
    "slideshow": {
     "slide_type": "subslide"
    }
   },
   "outputs": [
    {
     "name": "stdout",
     "output_type": "stream",
     "text": [
      "{'name': 'Luke Skywalker', 'height': '172', 'mass': '77', 'hair_color': 'blond', 'skin_color': 'fair', 'eye_color': 'blue', 'birth_year': '19BBY', 'gender': 'male', 'homeworld': 'https://swapi.co/api/planets/1/', 'films': ['https://swapi.co/api/films/2/', 'https://swapi.co/api/films/6/', 'https://swapi.co/api/films/3/', 'https://swapi.co/api/films/1/', 'https://swapi.co/api/films/7/'], 'species': ['https://swapi.co/api/species/1/'], 'vehicles': ['https://swapi.co/api/vehicles/14/', 'https://swapi.co/api/vehicles/30/'], 'starships': ['https://swapi.co/api/starships/12/', 'https://swapi.co/api/starships/22/'], 'created': '2014-12-09T13:50:51.644000Z', 'edited': '2014-12-20T21:17:56.891000Z', 'url': 'https://swapi.co/api/people/1/'}\n"
     ]
    }
   ],
   "source": [
    "# Let's try\n",
    "url = \"https://swapi.co/api/people/1\"\n",
    "\n",
    "# Launch request\n",
    "req_1 = requests.get(url)\n",
    "\n",
    "# Extract json\n",
    "req_1_js = req_1.json()\n",
    "print(req_1_js)"
   ]
  },
  {
   "cell_type": "code",
   "execution_count": 33,
   "metadata": {
    "slideshow": {
     "slide_type": "subslide"
    }
   },
   "outputs": [
    {
     "name": "stdout",
     "output_type": "stream",
     "text": [
      "['https://swapi.co/api/starships/12/', 'https://swapi.co/api/starships/22/']\n",
      "{'name': 'X-wing', 'model': 'T-65 X-wing', 'manufacturer': 'Incom Corporation', 'cost_in_credits': '149999', 'length': '12.5', 'max_atmosphering_speed': '1050', 'crew': '1', 'passengers': '0', 'cargo_capacity': '110', 'consumables': '1 week', 'hyperdrive_rating': '1.0', 'MGLT': '100', 'starship_class': 'Starfighter', 'pilots': ['https://swapi.co/api/people/1/', 'https://swapi.co/api/people/9/', 'https://swapi.co/api/people/18/', 'https://swapi.co/api/people/19/'], 'films': ['https://swapi.co/api/films/2/', 'https://swapi.co/api/films/3/', 'https://swapi.co/api/films/1/'], 'created': '2014-12-12T11:19:05.340000Z', 'edited': '2014-12-22T17:35:44.491233Z', 'url': 'https://swapi.co/api/starships/12/'}\n"
     ]
    }
   ],
   "source": [
    "# Let's extract Luke's starships\n",
    "ships = req_1_js.get(\"starships\")\n",
    "print(ships)\n",
    "\n",
    "# And get entry of first starship\n",
    "ship = requests.get(ships[0]).json()\n",
    "print(ship)\n"
   ]
  },
  {
   "cell_type": "markdown",
   "metadata": {
    "slideshow": {
     "slide_type": "slide"
    }
   },
   "source": [
    "# The Google Maps API\n",
    "\n"
   ]
  }
 ],
 "metadata": {
  "celltoolbar": "Slideshow",
  "kernelspec": {
   "display_name": "Python 3",
   "language": "python",
   "name": "python3"
  },
  "language_info": {
   "codemirror_mode": {
    "name": "ipython",
    "version": 3
   },
   "file_extension": ".py",
   "mimetype": "text/x-python",
   "name": "python",
   "nbconvert_exporter": "python",
   "pygments_lexer": "ipython3",
   "version": "3.7.4"
  }
 },
 "nbformat": 4,
 "nbformat_minor": 2
}
