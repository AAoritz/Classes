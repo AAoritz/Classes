{
 "cells": [
  {
   "cell_type": "markdown",
   "metadata": {},
   "source": [
    "# Exercises For Session 9 (Numpy and Numba)"
   ]
  },
  {
   "cell_type": "markdown",
   "metadata": {},
   "source": [
    "## Exercise 1: Getting Started\n",
    "\n",
    "Solve these (very easy) exercises below to become acquainted with numpy."
   ]
  },
  {
   "cell_type": "markdown",
   "metadata": {},
   "source": [
    "### Exercise 1.1\n",
    "Create a new function, call it \"numba_trial\". Inside the function, do the following:\n",
    "\n",
    "- 1.1.A Inizialize a random 4x4 matrix and fill it with random numbers with a loop. (Hint: consider using [numpy.zeros](https://docs.scipy.org/doc/numpy/reference/generated/numpy.zeros.html))\n",
    "\n",
    "- 1.1.B Draw a random array with the same number of dimensions as before, but without using any loop. (Hint: [numpy.random.rand](https://docs.scipy.org/doc/numpy-1.15.1/reference/generated/numpy.random.rand.html))\n",
    "\n",
    "- 1.1.C Multiply the two matrices and compute the inverse of the result (if it exists).\n",
    "\n",
    "- 1.1.D Reshape the final matrix. (Hint: [numpy.reshape](https://docs.scipy.org/doc/numpy/reference/generated/numpy.reshape.html))\n",
    "\n",
    "- 1.1.E Run the function and display the final result. (Hint: use print())"
   ]
  },
  {
   "cell_type": "markdown",
   "metadata": {},
   "source": [
    "### Exercise 1.2\n",
    "The script below generates a random panel data."
   ]
  },
  {
   "cell_type": "code",
   "execution_count": null,
   "metadata": {},
   "outputs": [],
   "source": [
    "# Initialization\n",
    "import numpy as np\n",
    "import pandas as pd\n",
    "np.random.seed(208)\n",
    "ID            = 20\n",
    "Periods       = 5\n",
    "beta          = np.array([1, 0.5, 1.4, 3, 0.2, 5])\n",
    "\n",
    "# Define function\n",
    "def create_data(ID, Periods, beta):\n",
    "    \n",
    "    data_mu       = np.array([1, 0.7, -0.25, 0.6, 0.4, -0.1])                                              \n",
    "    data_var      = [ [ 1.0000,  -0.2962,    0.3144,    0.5061,   -0.0014,   0.0077],\n",
    "                    [-0.2962,   1.0000,    0.3082,    0.0301,   -0.0101,   0.5034],\n",
    "                    [ 0.3144,   0.3082,    1.0000,    0.7012,    0.6674,   0.6345],\n",
    "                    [ 0.5061,   0.0301,    0.7012,    1.0000,    0.1950,   0.2173],\n",
    "                    [-0.0014,  -0.0101,    0.6674,    0.1950,    1.0000,   0.1860],\n",
    "                    [ 0.0077,   0.5034,    0.6345,    0.2173,    0.1860,   1.0000] ]                       \n",
    "    year          = np.sum(np.kron(np.linspace(1,Periods,Periods),np.identity(ID)),0)                      \n",
    "    idx           = np.sum(np.kron(np.identity(Periods),np.linspace(1,ID,ID)),0)                           \n",
    "    X             = np.exp(np.array(np.random.multivariate_normal(data_mu, data_var, ID*Periods)))         \n",
    "    y             = X @ beta + np.random.normal(0,1,ID*Periods)\n",
    "    data          = np.c_[year, idx, X, y]\n",
    "    \n",
    "    return data\n",
    "\n",
    "# Call function\n",
    "data = create_data(ID, Periods, beta)\n",
    "#print(pd.DataFrame(data))                                                                    \n"
   ]
  },
  {
   "cell_type": "markdown",
   "metadata": {},
   "source": [
    "- 1.2.A. Using matrix multiplication, create your own OLS estimator of the vector beta. (Hint: use [np.linalg.inv](https://docs.scipy.org/doc/numpy/reference/generated/numpy.linalg.inv.html))\n",
    "\n",
    "- 1.2.B. Compute OLS standard errors.\n",
    "\n",
    "Note. If your results are correct, you should get exactly the same result as if you run OLS using the python package statsmodel."
   ]
  },
  {
   "cell_type": "code",
   "execution_count": null,
   "metadata": {},
   "outputs": [],
   "source": [
    "import statsmodels.api as sm\n",
    "model = sm.OLS(data[:,8], data[:,2:8])\n",
    "results = model.fit()\n",
    "print(results.summary())"
   ]
  },
  {
   "cell_type": "markdown",
   "metadata": {},
   "source": [
    "## Exercise 2: Getting Serious\n",
    "Propose your own solutions for exercises 1 and 2 at [Quantecon](https://python.quantecon.org/numpy.html)."
   ]
  }
 ],
 "metadata": {
  "kernelspec": {
   "display_name": "Python 3",
   "language": "python",
   "name": "python3"
  },
  "language_info": {
   "codemirror_mode": {
    "name": "ipython",
    "version": 3
   },
   "file_extension": ".py",
   "mimetype": "text/x-python",
   "name": "python",
   "nbconvert_exporter": "python",
   "pygments_lexer": "ipython3",
   "version": "3.7.4"
  }
 },
 "nbformat": 4,
 "nbformat_minor": 4
}
